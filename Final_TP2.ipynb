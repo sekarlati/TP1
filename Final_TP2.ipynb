{
  "nbformat": 4,
  "nbformat_minor": 0,
  "metadata": {
    "colab": {
      "provenance": [],
      "authorship_tag": "ABX9TyOolvLQZOfe6GEj2czwGbj3",
      "include_colab_link": true
    },
    "kernelspec": {
      "name": "python3",
      "display_name": "Python 3"
    },
    "language_info": {
      "name": "python"
    }
  },
  "cells": [
    {
      "cell_type": "markdown",
      "metadata": {
        "id": "view-in-github",
        "colab_type": "text"
      },
      "source": [
        "<a href=\"https://colab.research.google.com/github/sekarlati/TP1/blob/main/Final_TP2.ipynb\" target=\"_parent\"><img src=\"https://colab.research.google.com/assets/colab-badge.svg\" alt=\"Open In Colab\"/></a>"
      ]
    },
    {
      "cell_type": "code",
      "execution_count": 3,
      "metadata": {
        "id": "luZiMzLSjpLg"
      },
      "outputs": [],
      "source": [
        "import pandas as pd\n",
        "import numpy as np\n",
        "import matplotlib.pyplot as plt\n",
        "import matplotlib.ticker as ticker"
      ]
    },
    {
      "cell_type": "code",
      "source": [
        "data = pd.read_csv(\"https://raw.githubusercontent.com/learn-co-students/ds-dimensionality-reduction-with-pca-lab-nyc-ds-091018/master/foodusa.csv\", index_col=0)"
      ],
      "metadata": {
        "id": "coZ5riWVzuG7"
      },
      "execution_count": 4,
      "outputs": []
    },
    {
      "cell_type": "code",
      "source": [
        "data.head()"
      ],
      "metadata": {
        "colab": {
          "base_uri": "https://localhost:8080/",
          "height": 237
        },
        "id": "ra3uroEmkANp",
        "outputId": "a4dbe368-c942-46fb-86b4-894524459ac7"
      },
      "execution_count": 5,
      "outputs": [
        {
          "output_type": "execute_result",
          "data": {
            "text/plain": [
              "           Bread  Burger  Milk  Oranges  Tomatoes\n",
              "City                                             \n",
              "ATLANTA     24.5    94.5  73.9     80.1      41.6\n",
              "BALTIMORE   26.5    91.0  67.5     74.6      53.3\n",
              "BOSTON      29.7   100.8  61.4    104.0      59.6\n",
              "BUFFALO     22.8    86.6  65.3    118.4      51.2\n",
              "CHICAGO     26.7    86.7  62.7    105.9      51.2"
            ],
            "text/html": [
              "\n",
              "  <div id=\"df-dfa7c3d5-8e65-46d5-aca8-3147df7dcf83\" class=\"colab-df-container\">\n",
              "    <div>\n",
              "<style scoped>\n",
              "    .dataframe tbody tr th:only-of-type {\n",
              "        vertical-align: middle;\n",
              "    }\n",
              "\n",
              "    .dataframe tbody tr th {\n",
              "        vertical-align: top;\n",
              "    }\n",
              "\n",
              "    .dataframe thead th {\n",
              "        text-align: right;\n",
              "    }\n",
              "</style>\n",
              "<table border=\"1\" class=\"dataframe\">\n",
              "  <thead>\n",
              "    <tr style=\"text-align: right;\">\n",
              "      <th></th>\n",
              "      <th>Bread</th>\n",
              "      <th>Burger</th>\n",
              "      <th>Milk</th>\n",
              "      <th>Oranges</th>\n",
              "      <th>Tomatoes</th>\n",
              "    </tr>\n",
              "    <tr>\n",
              "      <th>City</th>\n",
              "      <th></th>\n",
              "      <th></th>\n",
              "      <th></th>\n",
              "      <th></th>\n",
              "      <th></th>\n",
              "    </tr>\n",
              "  </thead>\n",
              "  <tbody>\n",
              "    <tr>\n",
              "      <th>ATLANTA</th>\n",
              "      <td>24.5</td>\n",
              "      <td>94.5</td>\n",
              "      <td>73.9</td>\n",
              "      <td>80.1</td>\n",
              "      <td>41.6</td>\n",
              "    </tr>\n",
              "    <tr>\n",
              "      <th>BALTIMORE</th>\n",
              "      <td>26.5</td>\n",
              "      <td>91.0</td>\n",
              "      <td>67.5</td>\n",
              "      <td>74.6</td>\n",
              "      <td>53.3</td>\n",
              "    </tr>\n",
              "    <tr>\n",
              "      <th>BOSTON</th>\n",
              "      <td>29.7</td>\n",
              "      <td>100.8</td>\n",
              "      <td>61.4</td>\n",
              "      <td>104.0</td>\n",
              "      <td>59.6</td>\n",
              "    </tr>\n",
              "    <tr>\n",
              "      <th>BUFFALO</th>\n",
              "      <td>22.8</td>\n",
              "      <td>86.6</td>\n",
              "      <td>65.3</td>\n",
              "      <td>118.4</td>\n",
              "      <td>51.2</td>\n",
              "    </tr>\n",
              "    <tr>\n",
              "      <th>CHICAGO</th>\n",
              "      <td>26.7</td>\n",
              "      <td>86.7</td>\n",
              "      <td>62.7</td>\n",
              "      <td>105.9</td>\n",
              "      <td>51.2</td>\n",
              "    </tr>\n",
              "  </tbody>\n",
              "</table>\n",
              "</div>\n",
              "    <div class=\"colab-df-buttons\">\n",
              "\n",
              "  <div class=\"colab-df-container\">\n",
              "    <button class=\"colab-df-convert\" onclick=\"convertToInteractive('df-dfa7c3d5-8e65-46d5-aca8-3147df7dcf83')\"\n",
              "            title=\"Convert this dataframe to an interactive table.\"\n",
              "            style=\"display:none;\">\n",
              "\n",
              "  <svg xmlns=\"http://www.w3.org/2000/svg\" height=\"24px\" viewBox=\"0 -960 960 960\">\n",
              "    <path d=\"M120-120v-720h720v720H120Zm60-500h600v-160H180v160Zm220 220h160v-160H400v160Zm0 220h160v-160H400v160ZM180-400h160v-160H180v160Zm440 0h160v-160H620v160ZM180-180h160v-160H180v160Zm440 0h160v-160H620v160Z\"/>\n",
              "  </svg>\n",
              "    </button>\n",
              "\n",
              "  <style>\n",
              "    .colab-df-container {\n",
              "      display:flex;\n",
              "      gap: 12px;\n",
              "    }\n",
              "\n",
              "    .colab-df-convert {\n",
              "      background-color: #E8F0FE;\n",
              "      border: none;\n",
              "      border-radius: 50%;\n",
              "      cursor: pointer;\n",
              "      display: none;\n",
              "      fill: #1967D2;\n",
              "      height: 32px;\n",
              "      padding: 0 0 0 0;\n",
              "      width: 32px;\n",
              "    }\n",
              "\n",
              "    .colab-df-convert:hover {\n",
              "      background-color: #E2EBFA;\n",
              "      box-shadow: 0px 1px 2px rgba(60, 64, 67, 0.3), 0px 1px 3px 1px rgba(60, 64, 67, 0.15);\n",
              "      fill: #174EA6;\n",
              "    }\n",
              "\n",
              "    .colab-df-buttons div {\n",
              "      margin-bottom: 4px;\n",
              "    }\n",
              "\n",
              "    [theme=dark] .colab-df-convert {\n",
              "      background-color: #3B4455;\n",
              "      fill: #D2E3FC;\n",
              "    }\n",
              "\n",
              "    [theme=dark] .colab-df-convert:hover {\n",
              "      background-color: #434B5C;\n",
              "      box-shadow: 0px 1px 3px 1px rgba(0, 0, 0, 0.15);\n",
              "      filter: drop-shadow(0px 1px 2px rgba(0, 0, 0, 0.3));\n",
              "      fill: #FFFFFF;\n",
              "    }\n",
              "  </style>\n",
              "\n",
              "    <script>\n",
              "      const buttonEl =\n",
              "        document.querySelector('#df-dfa7c3d5-8e65-46d5-aca8-3147df7dcf83 button.colab-df-convert');\n",
              "      buttonEl.style.display =\n",
              "        google.colab.kernel.accessAllowed ? 'block' : 'none';\n",
              "\n",
              "      async function convertToInteractive(key) {\n",
              "        const element = document.querySelector('#df-dfa7c3d5-8e65-46d5-aca8-3147df7dcf83');\n",
              "        const dataTable =\n",
              "          await google.colab.kernel.invokeFunction('convertToInteractive',\n",
              "                                                    [key], {});\n",
              "        if (!dataTable) return;\n",
              "\n",
              "        const docLinkHtml = 'Like what you see? Visit the ' +\n",
              "          '<a target=\"_blank\" href=https://colab.research.google.com/notebooks/data_table.ipynb>data table notebook</a>'\n",
              "          + ' to learn more about interactive tables.';\n",
              "        element.innerHTML = '';\n",
              "        dataTable['output_type'] = 'display_data';\n",
              "        await google.colab.output.renderOutput(dataTable, element);\n",
              "        const docLink = document.createElement('div');\n",
              "        docLink.innerHTML = docLinkHtml;\n",
              "        element.appendChild(docLink);\n",
              "      }\n",
              "    </script>\n",
              "  </div>\n",
              "\n",
              "\n",
              "<div id=\"df-002bcb04-75da-4192-a32d-74082155b8ac\">\n",
              "  <button class=\"colab-df-quickchart\" onclick=\"quickchart('df-002bcb04-75da-4192-a32d-74082155b8ac')\"\n",
              "            title=\"Suggest charts\"\n",
              "            style=\"display:none;\">\n",
              "\n",
              "<svg xmlns=\"http://www.w3.org/2000/svg\" height=\"24px\"viewBox=\"0 0 24 24\"\n",
              "     width=\"24px\">\n",
              "    <g>\n",
              "        <path d=\"M19 3H5c-1.1 0-2 .9-2 2v14c0 1.1.9 2 2 2h14c1.1 0 2-.9 2-2V5c0-1.1-.9-2-2-2zM9 17H7v-7h2v7zm4 0h-2V7h2v10zm4 0h-2v-4h2v4z\"/>\n",
              "    </g>\n",
              "</svg>\n",
              "  </button>\n",
              "\n",
              "<style>\n",
              "  .colab-df-quickchart {\n",
              "      --bg-color: #E8F0FE;\n",
              "      --fill-color: #1967D2;\n",
              "      --hover-bg-color: #E2EBFA;\n",
              "      --hover-fill-color: #174EA6;\n",
              "      --disabled-fill-color: #AAA;\n",
              "      --disabled-bg-color: #DDD;\n",
              "  }\n",
              "\n",
              "  [theme=dark] .colab-df-quickchart {\n",
              "      --bg-color: #3B4455;\n",
              "      --fill-color: #D2E3FC;\n",
              "      --hover-bg-color: #434B5C;\n",
              "      --hover-fill-color: #FFFFFF;\n",
              "      --disabled-bg-color: #3B4455;\n",
              "      --disabled-fill-color: #666;\n",
              "  }\n",
              "\n",
              "  .colab-df-quickchart {\n",
              "    background-color: var(--bg-color);\n",
              "    border: none;\n",
              "    border-radius: 50%;\n",
              "    cursor: pointer;\n",
              "    display: none;\n",
              "    fill: var(--fill-color);\n",
              "    height: 32px;\n",
              "    padding: 0;\n",
              "    width: 32px;\n",
              "  }\n",
              "\n",
              "  .colab-df-quickchart:hover {\n",
              "    background-color: var(--hover-bg-color);\n",
              "    box-shadow: 0 1px 2px rgba(60, 64, 67, 0.3), 0 1px 3px 1px rgba(60, 64, 67, 0.15);\n",
              "    fill: var(--button-hover-fill-color);\n",
              "  }\n",
              "\n",
              "  .colab-df-quickchart-complete:disabled,\n",
              "  .colab-df-quickchart-complete:disabled:hover {\n",
              "    background-color: var(--disabled-bg-color);\n",
              "    fill: var(--disabled-fill-color);\n",
              "    box-shadow: none;\n",
              "  }\n",
              "\n",
              "  .colab-df-spinner {\n",
              "    border: 2px solid var(--fill-color);\n",
              "    border-color: transparent;\n",
              "    border-bottom-color: var(--fill-color);\n",
              "    animation:\n",
              "      spin 1s steps(1) infinite;\n",
              "  }\n",
              "\n",
              "  @keyframes spin {\n",
              "    0% {\n",
              "      border-color: transparent;\n",
              "      border-bottom-color: var(--fill-color);\n",
              "      border-left-color: var(--fill-color);\n",
              "    }\n",
              "    20% {\n",
              "      border-color: transparent;\n",
              "      border-left-color: var(--fill-color);\n",
              "      border-top-color: var(--fill-color);\n",
              "    }\n",
              "    30% {\n",
              "      border-color: transparent;\n",
              "      border-left-color: var(--fill-color);\n",
              "      border-top-color: var(--fill-color);\n",
              "      border-right-color: var(--fill-color);\n",
              "    }\n",
              "    40% {\n",
              "      border-color: transparent;\n",
              "      border-right-color: var(--fill-color);\n",
              "      border-top-color: var(--fill-color);\n",
              "    }\n",
              "    60% {\n",
              "      border-color: transparent;\n",
              "      border-right-color: var(--fill-color);\n",
              "    }\n",
              "    80% {\n",
              "      border-color: transparent;\n",
              "      border-right-color: var(--fill-color);\n",
              "      border-bottom-color: var(--fill-color);\n",
              "    }\n",
              "    90% {\n",
              "      border-color: transparent;\n",
              "      border-bottom-color: var(--fill-color);\n",
              "    }\n",
              "  }\n",
              "</style>\n",
              "\n",
              "  <script>\n",
              "    async function quickchart(key) {\n",
              "      const quickchartButtonEl =\n",
              "        document.querySelector('#' + key + ' button');\n",
              "      quickchartButtonEl.disabled = true;  // To prevent multiple clicks.\n",
              "      quickchartButtonEl.classList.add('colab-df-spinner');\n",
              "      try {\n",
              "        const charts = await google.colab.kernel.invokeFunction(\n",
              "            'suggestCharts', [key], {});\n",
              "      } catch (error) {\n",
              "        console.error('Error during call to suggestCharts:', error);\n",
              "      }\n",
              "      quickchartButtonEl.classList.remove('colab-df-spinner');\n",
              "      quickchartButtonEl.classList.add('colab-df-quickchart-complete');\n",
              "    }\n",
              "    (() => {\n",
              "      let quickchartButtonEl =\n",
              "        document.querySelector('#df-002bcb04-75da-4192-a32d-74082155b8ac button');\n",
              "      quickchartButtonEl.style.display =\n",
              "        google.colab.kernel.accessAllowed ? 'block' : 'none';\n",
              "    })();\n",
              "  </script>\n",
              "</div>\n",
              "    </div>\n",
              "  </div>\n"
            ],
            "application/vnd.google.colaboratory.intrinsic+json": {
              "type": "dataframe",
              "variable_name": "data",
              "summary": "{\n  \"name\": \"data\",\n  \"rows\": 23,\n  \"fields\": [\n    {\n      \"column\": \"City\",\n      \"properties\": {\n        \"dtype\": \"string\",\n        \"num_unique_values\": 23,\n        \"samples\": [\n          \"NEW YORK\",\n          \"HONALULU\",\n          \"ATLANTA\"\n        ],\n        \"semantic_type\": \"\",\n        \"description\": \"\"\n      }\n    },\n    {\n      \"column\": \"Bread\",\n      \"properties\": {\n        \"dtype\": \"number\",\n        \"std\": 2.506883803282883,\n        \"min\": 20.3,\n        \"max\": 30.8,\n        \"num_unique_values\": 20,\n        \"samples\": [\n          24.5,\n          26.3,\n          26.2\n        ],\n        \"semantic_type\": \"\",\n        \"description\": \"\"\n      }\n    },\n    {\n      \"column\": \"Burger\",\n      \"properties\": {\n        \"dtype\": \"number\",\n        \"std\": 7.554939749892513,\n        \"min\": 77.7,\n        \"max\": 110.7,\n        \"num_unique_values\": 23,\n        \"samples\": [\n          110.7,\n          105.9,\n          94.5\n        ],\n        \"semantic_type\": \"\",\n        \"description\": \"\"\n      }\n    },\n    {\n      \"column\": \"Milk\",\n      \"properties\": {\n        \"dtype\": \"number\",\n        \"std\": 6.950243832274033,\n        \"min\": 51.5,\n        \"max\": 80.2,\n        \"num_unique_values\": 22,\n        \"samples\": [\n          73.9,\n          53.8,\n          51.5\n        ],\n        \"semantic_type\": \"\",\n        \"description\": \"\"\n      }\n    },\n    {\n      \"column\": \"Oranges\",\n      \"properties\": {\n        \"dtype\": \"number\",\n        \"std\": 14.239251545814486,\n        \"min\": 74.6,\n        \"max\": 133.2,\n        \"num_unique_values\": 23,\n        \"samples\": [\n          107.3,\n          133.2,\n          80.1\n        ],\n        \"semantic_type\": \"\",\n        \"description\": \"\"\n      }\n    },\n    {\n      \"column\": \"Tomatoes\",\n      \"properties\": {\n        \"dtype\": \"number\",\n        \"std\": 7.602667516055388,\n        \"min\": 35.4,\n        \"max\": 62.6,\n        \"num_unique_values\": 20,\n        \"samples\": [\n          41.6,\n          35.4,\n          49.3\n        ],\n        \"semantic_type\": \"\",\n        \"description\": \"\"\n      }\n    }\n  ]\n}"
            }
          },
          "metadata": {},
          "execution_count": 5
        }
      ]
    },
    {
      "cell_type": "markdown",
      "source": [
        "Create correlation matrix"
      ],
      "metadata": {
        "id": "txY45c4RkHS6"
      }
    },
    {
      "cell_type": "code",
      "source": [
        "from sklearn.preprocessing import StandardScaler"
      ],
      "metadata": {
        "id": "0EWt07TRkEA1"
      },
      "execution_count": 6,
      "outputs": []
    },
    {
      "cell_type": "code",
      "source": [
        "scaler = StandardScaler()"
      ],
      "metadata": {
        "id": "lquaoA0Oy_2Y"
      },
      "execution_count": 7,
      "outputs": []
    },
    {
      "cell_type": "code",
      "source": [
        "scaled_data = scaler.fit_transform(data)"
      ],
      "metadata": {
        "id": "nKMLFPsfzKRO"
      },
      "execution_count": 8,
      "outputs": []
    },
    {
      "cell_type": "code",
      "source": [
        "scaled_df = pd.DataFrame(scaled_data, columns=data.columns)"
      ],
      "metadata": {
        "id": "GIXsLyOH0w5f"
      },
      "execution_count": 9,
      "outputs": []
    },
    {
      "cell_type": "code",
      "source": [
        "scaled_df = pd.DataFrame(scaled_data, columns=list(data))"
      ],
      "metadata": {
        "id": "oVkL-5ks0_3o"
      },
      "execution_count": 10,
      "outputs": []
    },
    {
      "cell_type": "code",
      "source": [
        "print(scaled_df)"
      ],
      "metadata": {
        "colab": {
          "base_uri": "https://localhost:8080/"
        },
        "id": "SxXrKrob0zvH",
        "outputId": "098156d9-e37e-4a8f-cb17-d3c78770abd1"
      },
      "execution_count": 11,
      "outputs": [
        {
          "output_type": "stream",
          "name": "stdout",
          "text": [
            "       Bread    Burger      Milk   Oranges  Tomatoes\n",
            "0  -0.322747  0.357765  1.707156 -1.643751 -0.963643\n",
            "1   0.492987 -0.115920  0.765630 -2.038688  0.609878\n",
            "2   1.798161  1.210398 -0.131763  0.072431  1.457158\n",
            "3  -1.016120 -0.711410  0.441980  1.106449  0.327451\n",
            "4   0.574560 -0.697876  0.059485  0.208864  0.327451\n",
            "5   0.003547  1.440473  0.147753 -0.265061 -0.425687\n",
            "6  -1.016120 -0.413665 -1.455784  0.567898 -0.264300\n",
            "7  -0.812187 -0.860283  0.030062  1.070545 -0.936745\n",
            "8  -0.485894  0.249494 -1.588186  0.481730  0.488838\n",
            "9   1.635014  1.900624  2.633971  2.169189  1.739585\n",
            "10 -1.220054 -1.117426  0.809764  0.402742 -0.856051\n",
            "11  0.329840 -0.400131  0.456691 -0.150170 -0.748460\n",
            "12  0.656134 -0.345996 -0.896753 -1.457053 -1.394007\n",
            "13 -2.035787 -0.305394 -1.249825  0.632524  0.690571\n",
            "14 -0.281960  0.046486 -1.529341  0.216045  0.260207\n",
            "15  2.246814  2.550249  0.544960  0.309394  1.860625\n",
            "16 -0.322747  0.060020  0.647939 -0.358409  1.739585\n",
            "17  0.370627  0.479569 -0.308299  1.013100  0.071922\n",
            "18  0.492987  0.073554 -0.220031  0.869486 -0.344993\n",
            "19  0.085120 -1.103892 -0.779062 -0.731805 -1.797474\n",
            "20  0.411413 -0.643741 -0.587814 -0.085544 -0.977091\n",
            "21 -1.138480 -1.915923 -0.043494 -0.853876 -0.519829\n",
            "22 -0.445107  0.263028  0.544960 -1.536041 -0.344993\n"
          ]
        }
      ]
    },
    {
      "cell_type": "code",
      "source": [
        "correlation_matrix = scaled_df.corr()\n",
        "print(correlation_matrix)"
      ],
      "metadata": {
        "colab": {
          "base_uri": "https://localhost:8080/"
        },
        "id": "JsgmY9wj1JOK",
        "outputId": "35d99b89-c970-4791-9aaa-10b7915429f7"
      },
      "execution_count": 12,
      "outputs": [
        {
          "output_type": "stream",
          "name": "stdout",
          "text": [
            "             Bread    Burger      Milk   Oranges  Tomatoes\n",
            "Bread     1.000000  0.681700  0.328239  0.036709  0.382241\n",
            "Burger    0.681700  1.000000  0.333422  0.210937  0.631898\n",
            "Milk      0.328239  0.333422  1.000000 -0.002779  0.254417\n",
            "Oranges   0.036709  0.210937 -0.002779  1.000000  0.358061\n",
            "Tomatoes  0.382241  0.631898  0.254417  0.358061  1.000000\n"
          ]
        }
      ]
    },
    {
      "cell_type": "markdown",
      "source": [
        "Now that we have a correlation matrix, we can easily compute the eigenvectors and eigenvalues for this dataset."
      ],
      "metadata": {
        "id": "VtiChXyg2AjD"
      }
    },
    {
      "cell_type": "code",
      "source": [
        "eigenvalues, eigenvectors = np.linalg.eig(correlation_matrix)"
      ],
      "metadata": {
        "id": "COIPXRt32BwB"
      },
      "execution_count": 13,
      "outputs": []
    },
    {
      "cell_type": "code",
      "source": [
        "print(eigenvalues)"
      ],
      "metadata": {
        "colab": {
          "base_uri": "https://localhost:8080/"
        },
        "id": "-lj9ZZc_2UuZ",
        "outputId": "b85284c4-c7c3-46f4-a766-0b49f0f38cd7"
      },
      "execution_count": 14,
      "outputs": [
        {
          "output_type": "stream",
          "name": "stdout",
          "text": [
            "[2.42246795 1.10467489 0.2407653  0.73848053 0.49361132]\n"
          ]
        }
      ]
    },
    {
      "cell_type": "code",
      "source": [
        "print(eigenvectors)"
      ],
      "metadata": {
        "colab": {
          "base_uri": "https://localhost:8080/"
        },
        "id": "PJO6o7mE2YfI",
        "outputId": "36852c31-6f80-451c-ac8e-0846b5df855b"
      },
      "execution_count": 15,
      "outputs": [
        {
          "output_type": "stream",
          "name": "stdout",
          "text": [
            "[[ 0.49614868  0.30861972  0.49989887  0.38639398 -0.50930459]\n",
            " [ 0.57570231  0.04380176 -0.77263501  0.26247227  0.02813712]\n",
            " [ 0.33956956  0.43080905 -0.00788224 -0.83463952 -0.0491    ]\n",
            " [ 0.22498981 -0.79677694  0.0059668  -0.29160659 -0.47901574]\n",
            " [ 0.50643404 -0.28702846  0.39120139  0.01226602  0.71270629]]\n"
          ]
        }
      ]
    },
    {
      "cell_type": "markdown",
      "source": [
        "## **2. Visualizing how much information our PCs store.**"
      ],
      "metadata": {
        "id": "5rfG1Jbzkcan"
      }
    },
    {
      "cell_type": "code",
      "source": [
        "eigenvalues_sum = np.sum(eigenvalues)"
      ],
      "metadata": {
        "id": "564wa_ex2kCf"
      },
      "execution_count": 16,
      "outputs": []
    },
    {
      "cell_type": "code",
      "source": [
        "print(\"Sum of eigenvalues:\", eigenvalues_sum)"
      ],
      "metadata": {
        "colab": {
          "base_uri": "https://localhost:8080/"
        },
        "id": "tjKzU_Xg2t5y",
        "outputId": "db2fe9a1-b613-4f21-cf4f-8e56279e77db"
      },
      "execution_count": 17,
      "outputs": [
        {
          "output_type": "stream",
          "name": "stdout",
          "text": [
            "Sum of eigenvalues: 4.999999999999998\n"
          ]
        }
      ]
    },
    {
      "cell_type": "markdown",
      "source": [
        "Looks great!\n",
        "\n",
        "Now we go into the essentials of PCA. for each principal component (defined by the eigenvectors), the amount of variance represented in this PC is reflected by its respective eigenvalue. So what we'll want to do is keep PCs with a high eigenvalue, and drop the ones with a low eigenvalue."
      ],
      "metadata": {
        "id": "HNuZg73b21Tz"
      }
    },
    {
      "cell_type": "code",
      "source": [
        "sorted_eigenvalues = np.sort(eigenvalues)[::-1]"
      ],
      "metadata": {
        "id": "zAfLre2V219B"
      },
      "execution_count": 18,
      "outputs": []
    },
    {
      "cell_type": "code",
      "source": [
        "print(\"Sorted eigenvalues (highest to lowest):\", sorted_eigenvalues)"
      ],
      "metadata": {
        "colab": {
          "base_uri": "https://localhost:8080/"
        },
        "id": "zH-FeMq729S6",
        "outputId": "972a61e1-8695-4afa-c466-1529af834a1e"
      },
      "execution_count": 19,
      "outputs": [
        {
          "output_type": "stream",
          "name": "stdout",
          "text": [
            "Sorted eigenvalues (highest to lowest): [2.42246795 1.10467489 0.73848053 0.49361132 0.2407653 ]\n"
          ]
        }
      ]
    },
    {
      "cell_type": "code",
      "source": [
        "plt.plot(sorted_eigenvalues)"
      ],
      "metadata": {
        "colab": {
          "base_uri": "https://localhost:8080/",
          "height": 448
        },
        "id": "W28dqqY93CyN",
        "outputId": "1b5d084e-72ff-4a3b-bbbd-67c1aba890a1"
      },
      "execution_count": 20,
      "outputs": [
        {
          "output_type": "execute_result",
          "data": {
            "text/plain": [
              "[<matplotlib.lines.Line2D at 0x7bdac7d596f0>]"
            ]
          },
          "metadata": {},
          "execution_count": 20
        },
        {
          "output_type": "display_data",
          "data": {
            "text/plain": [
              "<Figure size 640x480 with 1 Axes>"
            ],
            "image/png": "[encoded data removed]"
          },
          "metadata": {}
        }
      ]
    },
    {
      "cell_type": "code",
      "source": [
        "explained_variance_ratio = sorted_eigenvalues / np.sum(sorted_eigenvalues)"
      ],
      "metadata": {
        "id": "XmXR7FIX3o0I"
      },
      "execution_count": 21,
      "outputs": []
    },
    {
      "cell_type": "code",
      "source": [
        "cumulative_explained_variance = np.cumsum(explained_variance_ratio)"
      ],
      "metadata": {
        "id": "RGnjqGp13qNF"
      },
      "execution_count": 22,
      "outputs": []
    },
    {
      "cell_type": "code",
      "source": [
        "plt.figure(figsize=(10, 6))\n",
        "plt.plot(range(1, len(cumulative_explained_variance) + 1), cumulative_explained_variance, marker='o', linestyle='-')\n",
        "plt.title('Cumulative Explained Variance')\n",
        "plt.xlabel('Number of Components')\n",
        "plt.ylabel('Cumulative Explained Variance')\n",
        "plt.grid(True)\n",
        "plt.show()"
      ],
      "metadata": {
        "colab": {
          "base_uri": "https://localhost:8080/",
          "height": 564
        },
        "id": "PulM2uH03r6i",
        "outputId": "86dad1e7-7d38-43d2-c953-b85d8ef182f2"
      },
      "execution_count": 23,
      "outputs": [
        {
          "output_type": "display_data",
          "data": {
            "text/plain": [
              "<Figure size 1000x600 with 1 Axes>"
            ],
            "image/png": "[encoded data removed]"
          },
          "metadata": {}
        }
      ]
    },
    {
      "cell_type": "markdown",
      "source": [
        "This plot will show how much variance is explained by each additional eigenvalue or principal component.Let's say we decided to keep the the PCs with an eigenvalue bigger than 1. This is a popular decision rule, which in this case leads to having 2 principal components. Let's see how we can do that and how to interpret all this, but first, let's move over to scikit learn. This library has very easy-to-use PCA capabilities, and very easy to use. Let's look at how it's done!"
      ],
      "metadata": {
        "id": "cjVryCSg384m"
      }
    },
    {
      "cell_type": "markdown",
      "source": [
        "## **3. PCA in scikit learn**"
      ],
      "metadata": {
        "id": "rvhVfRln4Ruz"
      }
    },
    {
      "cell_type": "code",
      "source": [
        "from sklearn.decomposition import PCA"
      ],
      "metadata": {
        "id": "5b67HqE639f-"
      },
      "execution_count": 24,
      "outputs": []
    },
    {
      "cell_type": "code",
      "source": [
        "pca = PCA(n_components=5)"
      ],
      "metadata": {
        "id": "Yos8U6Fh4e2K"
      },
      "execution_count": 25,
      "outputs": []
    },
    {
      "cell_type": "code",
      "source": [
        "pca.fit(scaled_df)"
      ],
      "metadata": {
        "colab": {
          "base_uri": "https://localhost:8080/",
          "height": 74
        },
        "id": "MkdntWW84kP8",
        "outputId": "137b92fb-ca52-4b85-99ff-2332642f6a92"
      },
      "execution_count": 26,
      "outputs": [
        {
          "output_type": "execute_result",
          "data": {
            "text/plain": [
              "PCA(n_components=5)"
            ],
            "text/html": [
              "<style>#sk-container-id-1 {color: black;background-color: white;}#sk-container-id-1 pre{padding: 0;}#sk-container-id-1 div.sk-toggleable {background-color: white;}#sk-container-id-1 label.sk-toggleable__label {cursor: pointer;display: block;width: 100%;margin-bottom: 0;padding: 0.3em;box-sizing: border-box;text-align: center;}#sk-container-id-1 label.sk-toggleable__label-arrow:before {content: \"▸\";float: left;margin-right: 0.25em;color: #696969;}#sk-container-id-1 label.sk-toggleable__label-arrow:hover:before {color: black;}#sk-container-id-1 div.sk-estimator:hover label.sk-toggleable__label-arrow:before {color: black;}#sk-container-id-1 div.sk-toggleable__content {max-height: 0;max-width: 0;overflow: hidden;text-align: left;background-color: #f0f8ff;}#sk-container-id-1 div.sk-toggleable__content pre {margin: 0.2em;color: black;border-radius: 0.25em;background-color: #f0f8ff;}#sk-container-id-1 input.sk-toggleable__control:checked~div.sk-toggleable__content {max-height: 200px;max-width: 100%;overflow: auto;}#sk-container-id-1 input.sk-toggleable__control:checked~label.sk-toggleable__label-arrow:before {content: \"▾\";}#sk-container-id-1 div.sk-estimator input.sk-toggleable__control:checked~label.sk-toggleable__label {background-color: #d4ebff;}#sk-container-id-1 div.sk-label input.sk-toggleable__control:checked~label.sk-toggleable__label {background-color: #d4ebff;}#sk-container-id-1 input.sk-hidden--visually {border: 0;clip: rect(1px 1px 1px 1px);clip: rect(1px, 1px, 1px, 1px);height: 1px;margin: -1px;overflow: hidden;padding: 0;position: absolute;width: 1px;}#sk-container-id-1 div.sk-estimator {font-family: monospace;background-color: #f0f8ff;border: 1px dotted black;border-radius: 0.25em;box-sizing: border-box;margin-bottom: 0.5em;}#sk-container-id-1 div.sk-estimator:hover {background-color: #d4ebff;}#sk-container-id-1 div.sk-parallel-item::after {content: \"\";width: 100%;border-bottom: 1px solid gray;flex-grow: 1;}#sk-container-id-1 div.sk-label:hover label.sk-toggleable__label {background-color: #d4ebff;}#sk-container-id-1 div.sk-serial::before {content: \"\";position: absolute;border-left: 1px solid gray;box-sizing: border-box;top: 0;bottom: 0;left: 50%;z-index: 0;}#sk-container-id-1 div.sk-serial {display: flex;flex-direction: column;align-items: center;background-color: white;padding-right: 0.2em;padding-left: 0.2em;position: relative;}#sk-container-id-1 div.sk-item {position: relative;z-index: 1;}#sk-container-id-1 div.sk-parallel {display: flex;align-items: stretch;justify-content: center;background-color: white;position: relative;}#sk-container-id-1 div.sk-item::before, #sk-container-id-1 div.sk-parallel-item::before {content: \"\";position: absolute;border-left: 1px solid gray;box-sizing: border-box;top: 0;bottom: 0;left: 50%;z-index: -1;}#sk-container-id-1 div.sk-parallel-item {display: flex;flex-direction: column;z-index: 1;position: relative;background-color: white;}#sk-container-id-1 div.sk-parallel-item:first-child::after {align-self: flex-end;width: 50%;}#sk-container-id-1 div.sk-parallel-item:last-child::after {align-self: flex-start;width: 50%;}#sk-container-id-1 div.sk-parallel-item:only-child::after {width: 0;}#sk-container-id-1 div.sk-dashed-wrapped {border: 1px dashed gray;margin: 0 0.4em 0.5em 0.4em;box-sizing: border-box;padding-bottom: 0.4em;background-color: white;}#sk-container-id-1 div.sk-label label {font-family: monospace;font-weight: bold;display: inline-block;line-height: 1.2em;}#sk-container-id-1 div.sk-label-container {text-align: center;}#sk-container-id-1 div.sk-container {/* jupyter's `normalize.less` sets `[hidden] { display: none; }` but bootstrap.min.css set `[hidden] { display: none !important; }` so we also need the `!important` here to be able to override the default hidden behavior on the sphinx rendered scikit-learn.org. See: https://github.com/scikit-learn/scikit-learn/issues/21755 */display: inline-block !important;position: relative;}#sk-container-id-1 div.sk-text-repr-fallback {display: none;}</style><div id=\"sk-container-id-1\" class=\"sk-top-container\"><div class=\"sk-text-repr-fallback\"><pre>PCA(n_components=5)</pre><b>In a Jupyter environment, please rerun this cell to show the HTML representation or trust the notebook. <br />On GitHub, the HTML representation is unable to render, please try loading this page with nbviewer.org.</b></div><div class=\"sk-container\" hidden><div class=\"sk-item\"><div class=\"sk-estimator sk-toggleable\"><input class=\"sk-toggleable__control sk-hidden--visually\" id=\"sk-estimator-id-1\" type=\"checkbox\" checked><label for=\"sk-estimator-id-1\" class=\"sk-toggleable__label sk-toggleable__label-arrow\">PCA</label><div class=\"sk-toggleable__content\"><pre>PCA(n_components=5)</pre></div></div></div></div></div>"
            ]
          },
          "metadata": {},
          "execution_count": 26
        }
      ]
    },
    {
      "cell_type": "code",
      "source": [
        "eigenvalues = pca.explained_variance_"
      ],
      "metadata": {
        "id": "PShUgQRy42eT"
      },
      "execution_count": 27,
      "outputs": []
    },
    {
      "cell_type": "code",
      "source": [
        "variance_explained = pca.explained_variance_ratio_"
      ],
      "metadata": {
        "id": "dgODUV1Gj579"
      },
      "execution_count": 58,
      "outputs": []
    },
    {
      "cell_type": "code",
      "source": [
        " print(variance_explained)"
      ],
      "metadata": {
        "colab": {
          "base_uri": "https://localhost:8080/"
        },
        "id": "Nq_nLeHkj7pu",
        "outputId": "1684b20e-f3c5-4ba9-edc8-368d61b676de"
      },
      "execution_count": 59,
      "outputs": [
        {
          "output_type": "stream",
          "name": "stdout",
          "text": [
            "[0.48449359 0.22093498 0.14769611 0.09872226 0.04815306]\n"
          ]
        }
      ]
    },
    {
      "cell_type": "code",
      "source": [
        "print(\"Eigenvalues (explained variance):\", eigenvalues)"
      ],
      "metadata": {
        "colab": {
          "base_uri": "https://localhost:8080/"
        },
        "id": "G_44yXZJ43QT",
        "outputId": "261a5e27-c1e7-40aa-b51b-cef850f0214b"
      },
      "execution_count": 28,
      "outputs": [
        {
          "output_type": "stream",
          "name": "stdout",
          "text": [
            "Eigenvalues (explained variance): [2.53258013 1.15488739 0.77204783 0.5160482  0.25170918]\n"
          ]
        }
      ]
    },
    {
      "cell_type": "code",
      "source": [
        "cumulative_sum = np.cumsum(eigenvalues)\n",
        "print(\"Cumulative sum of eigenvalues:\", cumulative_sum)"
      ],
      "metadata": {
        "colab": {
          "base_uri": "https://localhost:8080/"
        },
        "id": "FBCedIHI5Gwu",
        "outputId": "c6717feb-25e8-4bfa-ce14-6845950d17b9"
      },
      "execution_count": 29,
      "outputs": [
        {
          "output_type": "stream",
          "name": "stdout",
          "text": [
            "Cumulative sum of eigenvalues: [2.53258013 3.68746752 4.45951535 4.97556354 5.22727273]\n"
          ]
        }
      ]
    },
    {
      "cell_type": "markdown",
      "source": [
        "Let's say we've decided to keep 2 Principal components. Conveniently, there is the arguments n_components in the PCA function. Additionally, as you saw, the eigenvalues are already sorted according to their size!\n",
        "\n",
        "Run the cells below to get the first two principal components of our dataset using sklearn."
      ],
      "metadata": {
        "id": "9Vfjuelv5Myc"
      }
    },
    {
      "cell_type": "code",
      "source": [
        "pca_2 = PCA(n_components=2)\n",
        "pca_2.fit(scaled_df)"
      ],
      "metadata": {
        "colab": {
          "base_uri": "https://localhost:8080/",
          "height": 74
        },
        "id": "5QjRMcbt5OFj",
        "outputId": "b21dfa57-b1b8-4c2b-de35-787a83f91064"
      },
      "execution_count": 30,
      "outputs": [
        {
          "output_type": "execute_result",
          "data": {
            "text/plain": [
              "PCA(n_components=2)"
            ],
            "text/html": [
              "<style>#sk-container-id-2 {color: black;background-color: white;}#sk-container-id-2 pre{padding: 0;}#sk-container-id-2 div.sk-toggleable {background-color: white;}#sk-container-id-2 label.sk-toggleable__label {cursor: pointer;display: block;width: 100%;margin-bottom: 0;padding: 0.3em;box-sizing: border-box;text-align: center;}#sk-container-id-2 label.sk-toggleable__label-arrow:before {content: \"▸\";float: left;margin-right: 0.25em;color: #696969;}#sk-container-id-2 label.sk-toggleable__label-arrow:hover:before {color: black;}#sk-container-id-2 div.sk-estimator:hover label.sk-toggleable__label-arrow:before {color: black;}#sk-container-id-2 div.sk-toggleable__content {max-height: 0;max-width: 0;overflow: hidden;text-align: left;background-color: #f0f8ff;}#sk-container-id-2 div.sk-toggleable__content pre {margin: 0.2em;color: black;border-radius: 0.25em;background-color: #f0f8ff;}#sk-container-id-2 input.sk-toggleable__control:checked~div.sk-toggleable__content {max-height: 200px;max-width: 100%;overflow: auto;}#sk-container-id-2 input.sk-toggleable__control:checked~label.sk-toggleable__label-arrow:before {content: \"▾\";}#sk-container-id-2 div.sk-estimator input.sk-toggleable__control:checked~label.sk-toggleable__label {background-color: #d4ebff;}#sk-container-id-2 div.sk-label input.sk-toggleable__control:checked~label.sk-toggleable__label {background-color: #d4ebff;}#sk-container-id-2 input.sk-hidden--visually {border: 0;clip: rect(1px 1px 1px 1px);clip: rect(1px, 1px, 1px, 1px);height: 1px;margin: -1px;overflow: hidden;padding: 0;position: absolute;width: 1px;}#sk-container-id-2 div.sk-estimator {font-family: monospace;background-color: #f0f8ff;border: 1px dotted black;border-radius: 0.25em;box-sizing: border-box;margin-bottom: 0.5em;}#sk-container-id-2 div.sk-estimator:hover {background-color: #d4ebff;}#sk-container-id-2 div.sk-parallel-item::after {content: \"\";width: 100%;border-bottom: 1px solid gray;flex-grow: 1;}#sk-container-id-2 div.sk-label:hover label.sk-toggleable__label {background-color: #d4ebff;}#sk-container-id-2 div.sk-serial::before {content: \"\";position: absolute;border-left: 1px solid gray;box-sizing: border-box;top: 0;bottom: 0;left: 50%;z-index: 0;}#sk-container-id-2 div.sk-serial {display: flex;flex-direction: column;align-items: center;background-color: white;padding-right: 0.2em;padding-left: 0.2em;position: relative;}#sk-container-id-2 div.sk-item {position: relative;z-index: 1;}#sk-container-id-2 div.sk-parallel {display: flex;align-items: stretch;justify-content: center;background-color: white;position: relative;}#sk-container-id-2 div.sk-item::before, #sk-container-id-2 div.sk-parallel-item::before {content: \"\";position: absolute;border-left: 1px solid gray;box-sizing: border-box;top: 0;bottom: 0;left: 50%;z-index: -1;}#sk-container-id-2 div.sk-parallel-item {display: flex;flex-direction: column;z-index: 1;position: relative;background-color: white;}#sk-container-id-2 div.sk-parallel-item:first-child::after {align-self: flex-end;width: 50%;}#sk-container-id-2 div.sk-parallel-item:last-child::after {align-self: flex-start;width: 50%;}#sk-container-id-2 div.sk-parallel-item:only-child::after {width: 0;}#sk-container-id-2 div.sk-dashed-wrapped {border: 1px dashed gray;margin: 0 0.4em 0.5em 0.4em;box-sizing: border-box;padding-bottom: 0.4em;background-color: white;}#sk-container-id-2 div.sk-label label {font-family: monospace;font-weight: bold;display: inline-block;line-height: 1.2em;}#sk-container-id-2 div.sk-label-container {text-align: center;}#sk-container-id-2 div.sk-container {/* jupyter's `normalize.less` sets `[hidden] { display: none; }` but bootstrap.min.css set `[hidden] { display: none !important; }` so we also need the `!important` here to be able to override the default hidden behavior on the sphinx rendered scikit-learn.org. See: https://github.com/scikit-learn/scikit-learn/issues/21755 */display: inline-block !important;position: relative;}#sk-container-id-2 div.sk-text-repr-fallback {display: none;}</style><div id=\"sk-container-id-2\" class=\"sk-top-container\"><div class=\"sk-text-repr-fallback\"><pre>PCA(n_components=2)</pre><b>In a Jupyter environment, please rerun this cell to show the HTML representation or trust the notebook. <br />On GitHub, the HTML representation is unable to render, please try loading this page with nbviewer.org.</b></div><div class=\"sk-container\" hidden><div class=\"sk-item\"><div class=\"sk-estimator sk-toggleable\"><input class=\"sk-toggleable__control sk-hidden--visually\" id=\"sk-estimator-id-2\" type=\"checkbox\" checked><label for=\"sk-estimator-id-2\" class=\"sk-toggleable__label sk-toggleable__label-arrow\">PCA</label><div class=\"sk-toggleable__content\"><pre>PCA(n_components=2)</pre></div></div></div></div></div>"
            ]
          },
          "metadata": {},
          "execution_count": 30
        }
      ]
    },
    {
      "cell_type": "code",
      "source": [
        "eig_values = pca_2.explained_variance_"
      ],
      "metadata": {
        "id": "G1R-jnTL5X69"
      },
      "execution_count": 31,
      "outputs": []
    },
    {
      "cell_type": "code",
      "source": [
        "variance_explained = pca_2.explained_variance_ratio_"
      ],
      "metadata": {
        "id": "YOJmVXJIjmyN"
      },
      "execution_count": 55,
      "outputs": []
    },
    {
      "cell_type": "code",
      "source": [
        " print(variance_explained)"
      ],
      "metadata": {
        "colab": {
          "base_uri": "https://localhost:8080/"
        },
        "id": "UW6RNPrFjqP1",
        "outputId": "45bdb51a-fa7a-4dd9-8e11-3525f166c4c9"
      },
      "execution_count": 56,
      "outputs": [
        {
          "output_type": "stream",
          "name": "stdout",
          "text": [
            "[0.48449359 0.22093498]\n"
          ]
        }
      ]
    },
    {
      "cell_type": "code",
      "source": [
        "eig_vectors = pca_2.components_\n",
        "eig_vectors"
      ],
      "metadata": {
        "colab": {
          "base_uri": "https://localhost:8080/"
        },
        "id": "jQ0SB_CB5YcS",
        "outputId": "6219cc35-0a46-46e6-e475-e256ec0f78e8"
      },
      "execution_count": 57,
      "outputs": [
        {
          "output_type": "execute_result",
          "data": {
            "text/plain": [
              "array([[ 0.49614868,  0.57570231,  0.33956956,  0.22498981,  0.50643404],\n",
              "       [ 0.30861972,  0.04380176,  0.43080905, -0.79677694, -0.28702846]])"
            ]
          },
          "metadata": {},
          "execution_count": 57
        }
      ]
    },
    {
      "cell_type": "code",
      "source": [
        "cumulative_sum = np.cumsum(eig_values)\n",
        "print(\"Cumulative sum of eig_values:\", cumulative_sum)"
      ],
      "metadata": {
        "colab": {
          "base_uri": "https://localhost:8080/"
        },
        "id": "VBOpbI8bkCms",
        "outputId": "285ffb2e-147c-4c90-8f14-daa933d51765"
      },
      "execution_count": 61,
      "outputs": [
        {
          "output_type": "stream",
          "name": "stdout",
          "text": [
            "Cumulative sum of eig_values: [2.53258013 3.68746752]\n"
          ]
        }
      ]
    },
    {
      "cell_type": "markdown",
      "source": [
        "As seen before, 70% of the variance in the data can still be explained by just having the 2 principal components that replace the 5 variables!"
      ],
      "metadata": {
        "id": "EgOUvZ4j5cri"
      }
    },
    {
      "cell_type": "markdown",
      "source": [
        "## **4. Relationship with the original variables**"
      ],
      "metadata": {
        "id": "hKkW6skb5dRT"
      }
    },
    {
      "cell_type": "code",
      "source": [
        "pc1 = pca.components_[0]\n",
        "pc2 = pca.components_[1]"
      ],
      "metadata": {
        "id": "s-X0iA4fOaSw"
      },
      "execution_count": 33,
      "outputs": []
    },
    {
      "cell_type": "code",
      "source": [
        "structure_loading_1 = pc1 * np.sqrt(eig_values[0])"
      ],
      "metadata": {
        "id": "F2dkJ-BoPCnP"
      },
      "execution_count": 34,
      "outputs": []
    },
    {
      "cell_type": "code",
      "source": [
        "structure_loading_1_series = pd.Series(structure_loading_1, index=data.columns)"
      ],
      "metadata": {
        "id": "UBZtY34BPXyk"
      },
      "execution_count": 35,
      "outputs": []
    },
    {
      "cell_type": "code",
      "source": [
        "sorted_structure_loading_1 = structure_loading_1_series.sort_values(ascending=False)"
      ],
      "metadata": {
        "id": "x3hO1TxsPc52"
      },
      "execution_count": 36,
      "outputs": []
    },
    {
      "cell_type": "markdown",
      "source": [
        "Repeat for pincipal component 2"
      ],
      "metadata": {
        "id": "ahWrYSnrPj5H"
      }
    },
    {
      "cell_type": "code",
      "source": [
        "structure_loading_2 = pc2 * np.sqrt(eig_values[0])"
      ],
      "metadata": {
        "id": "rKUkszUMPjLD"
      },
      "execution_count": 37,
      "outputs": []
    },
    {
      "cell_type": "code",
      "source": [
        "structure_loading_2_series = pd.Series(structure_loading_2, index=data.columns)"
      ],
      "metadata": {
        "id": "B_kGGhTAPr-X"
      },
      "execution_count": 38,
      "outputs": []
    },
    {
      "cell_type": "code",
      "source": [
        "sorted_structure_loading_2 = structure_loading_2_series.sort_values(ascending=False)"
      ],
      "metadata": {
        "id": "jDF2dLz6PvV_"
      },
      "execution_count": 39,
      "outputs": []
    },
    {
      "cell_type": "code",
      "source": [
        "print (sorted_structure_loading_1)"
      ],
      "metadata": {
        "colab": {
          "base_uri": "https://localhost:8080/"
        },
        "id": "TjXFAw2bQIrI",
        "outputId": "1c9ae039-2332-49af-ff42-2a0d14908c54"
      },
      "execution_count": 43,
      "outputs": [
        {
          "output_type": "stream",
          "name": "stdout",
          "text": [
            "Burger      0.916177\n",
            "Tomatoes    0.805943\n",
            "Bread       0.789575\n",
            "Milk        0.540394\n",
            "Oranges     0.358051\n",
            "dtype: float64\n"
          ]
        }
      ]
    },
    {
      "cell_type": "code",
      "source": [
        "print (sorted_structure_loading_2)"
      ],
      "metadata": {
        "colab": {
          "base_uri": "https://localhost:8080/"
        },
        "id": "1ALZ26HsQMVc",
        "outputId": "e2683f77-f33d-444d-ff8a-3ce596bfcf3d"
      },
      "execution_count": 44,
      "outputs": [
        {
          "output_type": "stream",
          "name": "stdout",
          "text": [
            "Milk        0.685593\n",
            "Bread       0.491140\n",
            "Burger      0.069706\n",
            "Tomatoes   -0.456779\n",
            "Oranges    -1.267997\n",
            "dtype: float64\n"
          ]
        }
      ]
    },
    {
      "cell_type": "markdown",
      "source": [
        "## **5. The new data**"
      ],
      "metadata": {
        "id": "3a8AvU_IQiFu"
      }
    },
    {
      "cell_type": "code",
      "source": [
        "PC_df = pd.DataFrame(pca_2.transform(scaled_df), index=data.index, columns=['PC1','PC2'])"
      ],
      "metadata": {
        "id": "rkwRC0yHQ9zw"
      },
      "execution_count": 64,
      "outputs": []
    },
    {
      "cell_type": "code",
      "source": [
        "PC_df"
      ],
      "metadata": {
        "colab": {
          "base_uri": "https://localhost:8080/",
          "height": 802
        },
        "id": "_gCecPldRJ5l",
        "outputId": "42eabe94-7e18-43dd-d16c-f892708b5255"
      },
      "execution_count": 65,
      "outputs": [
        {
          "output_type": "execute_result",
          "data": {
            "text/plain": [
              "                    PC1       PC2\n",
              "City                             \n",
              "ATLANTA       -0.232315  2.237819\n",
              "BALTIMORE      0.288023  1.926235\n",
              "BOSTON         2.298492  0.075243\n",
              "BUFFALO       -0.348852 -1.129927\n",
              "CHICAGO        0.116322 -0.088027\n",
              "CINCINNATI     0.605998  0.461222\n",
              "CLEVELAND     -1.242714 -1.335505\n",
              "DALLAS        -1.121562 -0.859501\n",
              "DETROIT       -0.280792 -1.347375\n",
              "HONALULU       4.168851 -0.505083\n",
              "HOUSTON       -1.316582 -0.151809\n",
              "KANSAS CITY   -0.324461  0.615497\n",
              "LOS ANGELES   -1.211956  1.362077\n",
              "MILWAUKEE     -1.118232 -1.882291\n",
              "MINNEAPOLIS   -0.452064 -0.990662\n",
              "NEW YORK       3.779884  0.259320\n",
              "PHILADELPHIA   0.894790 -0.031577\n",
              "PITTSBURGH     0.619647 -0.825288\n",
              "ST LOUIS       0.233133 -0.533188\n",
              "SAN DIEGO     -1.932777  0.741302\n",
              "SAN FRANCISCO -0.880164  0.194150\n",
              "SEATTLE       -2.137999  0.375538\n",
              "WASHINGTON DC -0.404672  1.431830"
            ],
            "text/html": [
              "\n",
              "  <div id=\"df-971a1d74-f4b6-4eff-ba07-6232ea39f202\" class=\"colab-df-container\">\n",
              "    <div>\n",
              "<style scoped>\n",
              "    .dataframe tbody tr th:only-of-type {\n",
              "        vertical-align: middle;\n",
              "    }\n",
              "\n",
              "    .dataframe tbody tr th {\n",
              "        vertical-align: top;\n",
              "    }\n",
              "\n",
              "    .dataframe thead th {\n",
              "        text-align: right;\n",
              "    }\n",
              "</style>\n",
              "<table border=\"1\" class=\"dataframe\">\n",
              "  <thead>\n",
              "    <tr style=\"text-align: right;\">\n",
              "      <th></th>\n",
              "      <th>PC1</th>\n",
              "      <th>PC2</th>\n",
              "    </tr>\n",
              "    <tr>\n",
              "      <th>City</th>\n",
              "      <th></th>\n",
              "      <th></th>\n",
              "    </tr>\n",
              "  </thead>\n",
              "  <tbody>\n",
              "    <tr>\n",
              "      <th>ATLANTA</th>\n",
              "      <td>-0.232315</td>\n",
              "      <td>2.237819</td>\n",
              "    </tr>\n",
              "    <tr>\n",
              "      <th>BALTIMORE</th>\n",
              "      <td>0.288023</td>\n",
              "      <td>1.926235</td>\n",
              "    </tr>\n",
              "    <tr>\n",
              "      <th>BOSTON</th>\n",
              "      <td>2.298492</td>\n",
              "      <td>0.075243</td>\n",
              "    </tr>\n",
              "    <tr>\n",
              "      <th>BUFFALO</th>\n",
              "      <td>-0.348852</td>\n",
              "      <td>-1.129927</td>\n",
              "    </tr>\n",
              "    <tr>\n",
              "      <th>CHICAGO</th>\n",
              "      <td>0.116322</td>\n",
              "      <td>-0.088027</td>\n",
              "    </tr>\n",
              "    <tr>\n",
              "      <th>CINCINNATI</th>\n",
              "      <td>0.605998</td>\n",
              "      <td>0.461222</td>\n",
              "    </tr>\n",
              "    <tr>\n",
              "      <th>CLEVELAND</th>\n",
              "      <td>-1.242714</td>\n",
              "      <td>-1.335505</td>\n",
              "    </tr>\n",
              "    <tr>\n",
              "      <th>DALLAS</th>\n",
              "      <td>-1.121562</td>\n",
              "      <td>-0.859501</td>\n",
              "    </tr>\n",
              "    <tr>\n",
              "      <th>DETROIT</th>\n",
              "      <td>-0.280792</td>\n",
              "      <td>-1.347375</td>\n",
              "    </tr>\n",
              "    <tr>\n",
              "      <th>HONALULU</th>\n",
              "      <td>4.168851</td>\n",
              "      <td>-0.505083</td>\n",
              "    </tr>\n",
              "    <tr>\n",
              "      <th>HOUSTON</th>\n",
              "      <td>-1.316582</td>\n",
              "      <td>-0.151809</td>\n",
              "    </tr>\n",
              "    <tr>\n",
              "      <th>KANSAS CITY</th>\n",
              "      <td>-0.324461</td>\n",
              "      <td>0.615497</td>\n",
              "    </tr>\n",
              "    <tr>\n",
              "      <th>LOS ANGELES</th>\n",
              "      <td>-1.211956</td>\n",
              "      <td>1.362077</td>\n",
              "    </tr>\n",
              "    <tr>\n",
              "      <th>MILWAUKEE</th>\n",
              "      <td>-1.118232</td>\n",
              "      <td>-1.882291</td>\n",
              "    </tr>\n",
              "    <tr>\n",
              "      <th>MINNEAPOLIS</th>\n",
              "      <td>-0.452064</td>\n",
              "      <td>-0.990662</td>\n",
              "    </tr>\n",
              "    <tr>\n",
              "      <th>NEW YORK</th>\n",
              "      <td>3.779884</td>\n",
              "      <td>0.259320</td>\n",
              "    </tr>\n",
              "    <tr>\n",
              "      <th>PHILADELPHIA</th>\n",
              "      <td>0.894790</td>\n",
              "      <td>-0.031577</td>\n",
              "    </tr>\n",
              "    <tr>\n",
              "      <th>PITTSBURGH</th>\n",
              "      <td>0.619647</td>\n",
              "      <td>-0.825288</td>\n",
              "    </tr>\n",
              "    <tr>\n",
              "      <th>ST LOUIS</th>\n",
              "      <td>0.233133</td>\n",
              "      <td>-0.533188</td>\n",
              "    </tr>\n",
              "    <tr>\n",
              "      <th>SAN DIEGO</th>\n",
              "      <td>-1.932777</td>\n",
              "      <td>0.741302</td>\n",
              "    </tr>\n",
              "    <tr>\n",
              "      <th>SAN FRANCISCO</th>\n",
              "      <td>-0.880164</td>\n",
              "      <td>0.194150</td>\n",
              "    </tr>\n",
              "    <tr>\n",
              "      <th>SEATTLE</th>\n",
              "      <td>-2.137999</td>\n",
              "      <td>0.375538</td>\n",
              "    </tr>\n",
              "    <tr>\n",
              "      <th>WASHINGTON DC</th>\n",
              "      <td>-0.404672</td>\n",
              "      <td>1.431830</td>\n",
              "    </tr>\n",
              "  </tbody>\n",
              "</table>\n",
              "</div>\n",
              "    <div class=\"colab-df-buttons\">\n",
              "\n",
              "  <div class=\"colab-df-container\">\n",
              "    <button class=\"colab-df-convert\" onclick=\"convertToInteractive('df-971a1d74-f4b6-4eff-ba07-6232ea39f202')\"\n",
              "            title=\"Convert this dataframe to an interactive table.\"\n",
              "            style=\"display:none;\">\n",
              "\n",
              "  <svg xmlns=\"http://www.w3.org/2000/svg\" height=\"24px\" viewBox=\"0 -960 960 960\">\n",
              "    <path d=\"M120-120v-720h720v720H120Zm60-500h600v-160H180v160Zm220 220h160v-160H400v160Zm0 220h160v-160H400v160ZM180-400h160v-160H180v160Zm440 0h160v-160H620v160ZM180-180h160v-160H180v160Zm440 0h160v-160H620v160Z\"/>\n",
              "  </svg>\n",
              "    </button>\n",
              "\n",
              "  <style>\n",
              "    .colab-df-container {\n",
              "      display:flex;\n",
              "      gap: 12px;\n",
              "    }\n",
              "\n",
              "    .colab-df-convert {\n",
              "      background-color: #E8F0FE;\n",
              "      border: none;\n",
              "      border-radius: 50%;\n",
              "      cursor: pointer;\n",
              "      display: none;\n",
              "      fill: #1967D2;\n",
              "      height: 32px;\n",
              "      padding: 0 0 0 0;\n",
              "      width: 32px;\n",
              "    }\n",
              "\n",
              "    .colab-df-convert:hover {\n",
              "      background-color: #E2EBFA;\n",
              "      box-shadow: 0px 1px 2px rgba(60, 64, 67, 0.3), 0px 1px 3px 1px rgba(60, 64, 67, 0.15);\n",
              "      fill: #174EA6;\n",
              "    }\n",
              "\n",
              "    .colab-df-buttons div {\n",
              "      margin-bottom: 4px;\n",
              "    }\n",
              "\n",
              "    [theme=dark] .colab-df-convert {\n",
              "      background-color: #3B4455;\n",
              "      fill: #D2E3FC;\n",
              "    }\n",
              "\n",
              "    [theme=dark] .colab-df-convert:hover {\n",
              "      background-color: #434B5C;\n",
              "      box-shadow: 0px 1px 3px 1px rgba(0, 0, 0, 0.15);\n",
              "      filter: drop-shadow(0px 1px 2px rgba(0, 0, 0, 0.3));\n",
              "      fill: #FFFFFF;\n",
              "    }\n",
              "  </style>\n",
              "\n",
              "    <script>\n",
              "      const buttonEl =\n",
              "        document.querySelector('#df-971a1d74-f4b6-4eff-ba07-6232ea39f202 button.colab-df-convert');\n",
              "      buttonEl.style.display =\n",
              "        google.colab.kernel.accessAllowed ? 'block' : 'none';\n",
              "\n",
              "      async function convertToInteractive(key) {\n",
              "        const element = document.querySelector('#df-971a1d74-f4b6-4eff-ba07-6232ea39f202');\n",
              "        const dataTable =\n",
              "          await google.colab.kernel.invokeFunction('convertToInteractive',\n",
              "                                                    [key], {});\n",
              "        if (!dataTable) return;\n",
              "\n",
              "        const docLinkHtml = 'Like what you see? Visit the ' +\n",
              "          '<a target=\"_blank\" href=https://colab.research.google.com/notebooks/data_table.ipynb>data table notebook</a>'\n",
              "          + ' to learn more about interactive tables.';\n",
              "        element.innerHTML = '';\n",
              "        dataTable['output_type'] = 'display_data';\n",
              "        await google.colab.output.renderOutput(dataTable, element);\n",
              "        const docLink = document.createElement('div');\n",
              "        docLink.innerHTML = docLinkHtml;\n",
              "        element.appendChild(docLink);\n",
              "      }\n",
              "    </script>\n",
              "  </div>\n",
              "\n",
              "\n",
              "<div id=\"df-c57d64fb-3791-4726-8fdc-a3abc2e90607\">\n",
              "  <button class=\"colab-df-quickchart\" onclick=\"quickchart('df-c57d64fb-3791-4726-8fdc-a3abc2e90607')\"\n",
              "            title=\"Suggest charts\"\n",
              "            style=\"display:none;\">\n",
              "\n",
              "<svg xmlns=\"http://www.w3.org/2000/svg\" height=\"24px\"viewBox=\"0 0 24 24\"\n",
              "     width=\"24px\">\n",
              "    <g>\n",
              "        <path d=\"M19 3H5c-1.1 0-2 .9-2 2v14c0 1.1.9 2 2 2h14c1.1 0 2-.9 2-2V5c0-1.1-.9-2-2-2zM9 17H7v-7h2v7zm4 0h-2V7h2v10zm4 0h-2v-4h2v4z\"/>\n",
              "    </g>\n",
              "</svg>\n",
              "  </button>\n",
              "\n",
              "<style>\n",
              "  .colab-df-quickchart {\n",
              "      --bg-color: #E8F0FE;\n",
              "      --fill-color: #1967D2;\n",
              "      --hover-bg-color: #E2EBFA;\n",
              "      --hover-fill-color: #174EA6;\n",
              "      --disabled-fill-color: #AAA;\n",
              "      --disabled-bg-color: #DDD;\n",
              "  }\n",
              "\n",
              "  [theme=dark] .colab-df-quickchart {\n",
              "      --bg-color: #3B4455;\n",
              "      --fill-color: #D2E3FC;\n",
              "      --hover-bg-color: #434B5C;\n",
              "      --hover-fill-color: #FFFFFF;\n",
              "      --disabled-bg-color: #3B4455;\n",
              "      --disabled-fill-color: #666;\n",
              "  }\n",
              "\n",
              "  .colab-df-quickchart {\n",
              "    background-color: var(--bg-color);\n",
              "    border: none;\n",
              "    border-radius: 50%;\n",
              "    cursor: pointer;\n",
              "    display: none;\n",
              "    fill: var(--fill-color);\n",
              "    height: 32px;\n",
              "    padding: 0;\n",
              "    width: 32px;\n",
              "  }\n",
              "\n",
              "  .colab-df-quickchart:hover {\n",
              "    background-color: var(--hover-bg-color);\n",
              "    box-shadow: 0 1px 2px rgba(60, 64, 67, 0.3), 0 1px 3px 1px rgba(60, 64, 67, 0.15);\n",
              "    fill: var(--button-hover-fill-color);\n",
              "  }\n",
              "\n",
              "  .colab-df-quickchart-complete:disabled,\n",
              "  .colab-df-quickchart-complete:disabled:hover {\n",
              "    background-color: var(--disabled-bg-color);\n",
              "    fill: var(--disabled-fill-color);\n",
              "    box-shadow: none;\n",
              "  }\n",
              "\n",
              "  .colab-df-spinner {\n",
              "    border: 2px solid var(--fill-color);\n",
              "    border-color: transparent;\n",
              "    border-bottom-color: var(--fill-color);\n",
              "    animation:\n",
              "      spin 1s steps(1) infinite;\n",
              "  }\n",
              "\n",
              "  @keyframes spin {\n",
              "    0% {\n",
              "      border-color: transparent;\n",
              "      border-bottom-color: var(--fill-color);\n",
              "      border-left-color: var(--fill-color);\n",
              "    }\n",
              "    20% {\n",
              "      border-color: transparent;\n",
              "      border-left-color: var(--fill-color);\n",
              "      border-top-color: var(--fill-color);\n",
              "    }\n",
              "    30% {\n",
              "      border-color: transparent;\n",
              "      border-left-color: var(--fill-color);\n",
              "      border-top-color: var(--fill-color);\n",
              "      border-right-color: var(--fill-color);\n",
              "    }\n",
              "    40% {\n",
              "      border-color: transparent;\n",
              "      border-right-color: var(--fill-color);\n",
              "      border-top-color: var(--fill-color);\n",
              "    }\n",
              "    60% {\n",
              "      border-color: transparent;\n",
              "      border-right-color: var(--fill-color);\n",
              "    }\n",
              "    80% {\n",
              "      border-color: transparent;\n",
              "      border-right-color: var(--fill-color);\n",
              "      border-bottom-color: var(--fill-color);\n",
              "    }\n",
              "    90% {\n",
              "      border-color: transparent;\n",
              "      border-bottom-color: var(--fill-color);\n",
              "    }\n",
              "  }\n",
              "</style>\n",
              "\n",
              "  <script>\n",
              "    async function quickchart(key) {\n",
              "      const quickchartButtonEl =\n",
              "        document.querySelector('#' + key + ' button');\n",
              "      quickchartButtonEl.disabled = true;  // To prevent multiple clicks.\n",
              "      quickchartButtonEl.classList.add('colab-df-spinner');\n",
              "      try {\n",
              "        const charts = await google.colab.kernel.invokeFunction(\n",
              "            'suggestCharts', [key], {});\n",
              "      } catch (error) {\n",
              "        console.error('Error during call to suggestCharts:', error);\n",
              "      }\n",
              "      quickchartButtonEl.classList.remove('colab-df-spinner');\n",
              "      quickchartButtonEl.classList.add('colab-df-quickchart-complete');\n",
              "    }\n",
              "    (() => {\n",
              "      let quickchartButtonEl =\n",
              "        document.querySelector('#df-c57d64fb-3791-4726-8fdc-a3abc2e90607 button');\n",
              "      quickchartButtonEl.style.display =\n",
              "        google.colab.kernel.accessAllowed ? 'block' : 'none';\n",
              "    })();\n",
              "  </script>\n",
              "</div>\n",
              "    </div>\n",
              "  </div>\n"
            ],
            "application/vnd.google.colaboratory.intrinsic+json": {
              "type": "dataframe",
              "variable_name": "PC_df",
              "summary": "{\n  \"name\": \"PC_df\",\n  \"rows\": 23,\n  \"fields\": [\n    {\n      \"column\": \"City\",\n      \"properties\": {\n        \"dtype\": \"string\",\n        \"num_unique_values\": 23,\n        \"samples\": [\n          \"NEW YORK\",\n          \"HONALULU\",\n          \"ATLANTA\"\n        ],\n        \"semantic_type\": \"\",\n        \"description\": \"\"\n      }\n    },\n    {\n      \"column\": \"PC1\",\n      \"properties\": {\n        \"dtype\": \"number\",\n        \"std\": 1.5914082223897243,\n        \"min\": -2.137998994488917,\n        \"max\": 4.16885084159797,\n        \"num_unique_values\": 23,\n        \"samples\": [\n          3.7798843729227736,\n          4.16885084159797,\n          -0.2323147488693284\n        ],\n        \"semantic_type\": \"\",\n        \"description\": \"\"\n      }\n    },\n    {\n      \"column\": \"PC2\",\n      \"properties\": {\n        \"dtype\": \"number\",\n        \"std\": 1.0746568699103192,\n        \"min\": -1.8822911588929634,\n        \"max\": 2.2378185664644534,\n        \"num_unique_values\": 23,\n        \"samples\": [\n          0.2593200295976405,\n          -0.505083324221402,\n          2.2378185664644534\n        ],\n        \"semantic_type\": \"\",\n        \"description\": \"\"\n      }\n    }\n  ]\n}"
            }
          },
          "metadata": {},
          "execution_count": 65
        }
      ]
    },
    {
      "cell_type": "markdown",
      "source": [
        "PCA provides a great, intuitive way for us to transform our dataset into a format where the predictors are uncorrelated, as well as to reduce dimensionality by dropping less important components."
      ],
      "metadata": {
        "id": "4Yyk0_DERR8a"
      }
    }
  ]
}